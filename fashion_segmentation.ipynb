{
 "cells": [
  {
   "cell_type": "code",
   "execution_count": 1,
   "id": "84bcdc6d",
   "metadata": {},
   "outputs": [],
   "source": [
    "import os\n",
    "from dotenv import load_dotenv\n",
    "from transformers import SegformerImageProcessor, AutoModelForSemanticSegmentation\n",
    "from PIL import Image\n",
    "import matplotlib.pyplot as plt\n",
    "import matplotlib.colors as mcolors\n",
    "import numpy as np\n",
    "import torch.nn as nn\n",
    "from IPython.display import display\n",
    "\n",
    "load_dotenv()\n",
    "\n",
    "API_TOKEN = os.getenv(\"API_TOKEN\")\n",
    "headers = {\"Authorization\": f\"Bearer {API_TOKEN}\"}\n"
   ]
  },
  {
   "cell_type": "code",
   "execution_count": 2,
   "id": "9e5fdfcf",
   "metadata": {},
   "outputs": [
    {
     "name": "stderr",
     "output_type": "stream",
     "text": [
      "/home/marin/.cache/pypoetry/virtualenvs/fashion-YkPqBFHP-py3.12/lib/python3.12/site-packages/transformers/utils/deprecation.py:172: UserWarning: The following named arguments are not valid for `SegformerImageProcessor.__init__` and were ignored: 'feature_extractor_type'\n",
      "  return func(*args, **kwargs)\n"
     ]
    }
   ],
   "source": [
    "processor = SegformerImageProcessor.from_pretrained(\"mattmdjaga/segformer_b2_clothes\")\n",
    "model = AutoModelForSemanticSegmentation.from_pretrained(\"mattmdjaga/segformer_b2_clothes\")"
   ]
  },
  {
   "cell_type": "code",
   "execution_count": 3,
   "id": "1df4ea9f",
   "metadata": {},
   "outputs": [],
   "source": [
    "legend_labels = {\n",
    "    \"0\": \"Background\", \"1\": \"Hat\", \"2\": \"Hair\", \"3\": \"Sunglasses\", \"4\": \"Upper-clothes\",\n",
    "    \"5\": \"Skirt\", \"6\": \"Pants\", \"7\": \"Dress\", \"8\": \"Belt\", \"9\": \"Left-shoe\", \"10\": \"Right-shoe\",\n",
    "    \"11\": \"Face\", \"12\": \"Left-leg\", \"13\": \"Right-leg\", \"14\": \"Left-arm\", \"15\": \"Right-arm\",\n",
    "    \"16\": \"Bag\", \"17\": \"Scarf\"\n",
    "}\n",
    "\n",
    "custom_colormap = {\n",
    "    0: (0, 0, 0), 1: (0, 255, 255), 2: (0, 165, 255), 3: (255, 0, 255), 4: (0, 0, 255),\n",
    "    5: (255, 255, 0), 6: (0, 255, 0), 7: (255, 0, 0), 8: (128, 0, 128), 9: (0, 255, 255),\n",
    "    10: (255, 140, 0), 11: (200, 180, 140), 12: (200, 180, 140), 13: (200, 180, 140),\n",
    "    14: (200, 180, 140), 15: (200, 180, 140), 16: (0, 128, 255), 17: (255, 20, 147)\n",
    "}"
   ]
  },
  {
   "cell_type": "code",
   "execution_count": 4,
   "id": "e1137426",
   "metadata": {},
   "outputs": [],
   "source": [
    "def compute_iou_per_class(pred_mask, gt_mask, num_classes):\n",
    "    iou_dict = {}\n",
    "    valid_ious = []\n",
    "\n",
    "    for cls in range(num_classes):\n",
    "        pred_cls = pred_mask == cls\n",
    "        gt_cls = gt_mask == cls\n",
    "\n",
    "        intersection = np.logical_and(pred_cls, gt_cls).sum()\n",
    "        union = np.logical_or(pred_cls, gt_cls).sum()\n",
    "\n",
    "        if union == 0:\n",
    "            iou = float('nan')  # Classe absente des deux côtés\n",
    "        else:\n",
    "            iou = intersection / union\n",
    "            valid_ious.append(iou)\n",
    "\n",
    "        iou_dict[cls] = iou\n",
    "\n",
    "    mean_iou = np.nanmean(valid_ious)\n",
    "\n",
    "    return  mean_iou"
   ]
  },
  {
   "cell_type": "code",
   "execution_count": null,
   "id": "9d2f5459",
   "metadata": {},
   "outputs": [],
   "source": [
    "def displayLabels(predicted_mask):\n",
    "    labels = np.unique(predicted_mask)\n",
    "    present_labels = [int(label) for label in labels if label != 0 and str(label) in legend_labels]\n",
    "    present_classes = [legend_labels[str(label)] for label in present_labels]\n",
    "\n",
    "    ax = plt.gca()\n",
    "    y_start = 0.9\n",
    "    line_height = 0.04\n",
    "\n",
    "    for i, label_id in enumerate(present_labels):\n",
    "        y = y_start - i * line_height\n",
    "        rgb = custom_colormap.get(label_id, (255, 255, 255))\n",
    "        color = tuple(c/255 for c in rgb)\n",
    "        ax.add_patch(plt.Rectangle((0.05, y-0.02), 0.03, 0.03, color=color, transform=ax.transAxes))\n",
    "        plt.text(0.1, y - 0.01, present_classes[i], color='white', fontsize=14, transform=ax.transAxes, verticalalignment='center')\n",
    "        \n",
    "def createDisplay(predicted_mask, background, filename=\"\"):\n",
    "    fig, ax = plt.subplots(figsize=(10, 8))\n",
    "\n",
    "    plt.imshow(background)\n",
    "    cmap = mcolors.ListedColormap([tuple(np.array(c)/255) for _, c in sorted(custom_colormap.items())])\n",
    "    displayLabels(predicted_mask)\n",
    "    plt.imshow(predicted_mask, cmap=cmap, alpha=0.5)\n",
    "    plt.axis('off')\n",
    "\n",
    "    return fig  \n",
    "\n",
    "def saveFig(fig, filename, placeholder):\n",
    "    fig.savefig(\n",
    "        f\"./results/{filename}_{placeholder}.png\",\n",
    "        bbox_inches='tight',\n",
    "        pad_inches=0,\n",
    "        facecolor=fig.get_facecolor()\n",
    "    )\n",
    "    plt.close(fig)\n",
    "\n"
   ]
  },
  {
   "cell_type": "code",
   "execution_count": 6,
   "id": "2514c58f",
   "metadata": {},
   "outputs": [],
   "source": [
    "def PredictMask(image):\n",
    "    inputs = processor(images=image, return_tensors=\"pt\")\n",
    "    outputs = model(**inputs)\n",
    "    logits = outputs.logits.cpu()\n",
    "    upsampled_logits = nn.functional.interpolate(\n",
    "        logits,\n",
    "        size=image.size[::-1],\n",
    "        mode=\"bilinear\",\n",
    "        align_corners=False,\n",
    "    )\n",
    "    predicted_mask = upsampled_logits.argmax(dim=1)[0].numpy()\n",
    "    return predicted_mask\n",
    "\n",
    "def handleImageAndMask(image, mask, filename, placeholder, compute=False): \n",
    "    predicted_mask = PredictMask(image)\n",
    "    gt_array = np.array(mask) \n",
    "    \n",
    "    if compute == True:\n",
    "        mean = compute_iou_per_class(predicted_mask, gt_array, num_classes=18)\n",
    "        print(f\"Moyenne IoU (mIoU) : {mean:.3f}\")\n",
    "    \n",
    "    fig = createDisplay(predicted_mask, mask, filename)\n",
    "    \n",
    "    saveFig(fig, filename, placeholder)\n",
    "\n",
    "def combineImages(original_img, mask_img, predicted_img, filename):\n",
    "    # Assurez-vous que toutes les images ont la même taille\n",
    "    size = original_img.size\n",
    "    mask_img = mask_img.resize(size)\n",
    "    predicted_img = predicted_img.resize(size)\n",
    "\n",
    "    # Créer une nouvelle image pour juxtaposer les 3\n",
    "    total_width = size[0] * 3\n",
    "    combined_img = Image.new(\"RGB\", (total_width, size[1]))\n",
    "\n",
    "    # Coller les images\n",
    "    combined_img.paste(original_img, (0, 0))\n",
    "    combined_img.paste(mask_img, (size[0], 0))\n",
    "    combined_img.paste(predicted_img, (size[0] * 2, 0))\n",
    "\n",
    "    display(combined_img)\n",
    "    \n",
    "    # Sauvegarder l'image combinée\n",
    "    combined_img.save(f\"./results/{filename}_combined.png\")"
   ]
  },
  {
   "cell_type": "code",
   "execution_count": 7,
   "id": "b227e378",
   "metadata": {},
   "outputs": [],
   "source": [
    "def loadImages():\n",
    "    base_folder = \"./dataset/test\"\n",
    "    image_folder = os.path.join(base_folder, \"images\")\n",
    "    mask_folder = os.path.join(base_folder, \"masks\")\n",
    "\n",
    "    mean_ious = np.array([], dtype=float)\n",
    "\n",
    "    for filename in os.listdir(image_folder):\n",
    "        # Load image from path\n",
    "        image_path = os.path.join(image_folder, filename)\n",
    "        image = Image.open(image_path).convert(\"RGB\")\n",
    "\n",
    "        # Load Mask from path\n",
    "        mask_filename = filename.replace(\"image_\", \"mask_\")\n",
    "        mask_path = os.path.join(mask_folder, mask_filename)\n",
    "        mask = Image.open(mask_path).convert(\"L\")\n",
    "    \n",
    "        # Générer et sauvegarder les figures overlay\n",
    "        mean = handleImageAndMask(image, mask, filename, \"overlay_mask\", True)\n",
    "        mean_ious = np.append(mean_ious, mean) \n",
    "\n",
    "        handleImageAndMask(image, image, filename, \"overlay_image\", False)\n",
    "\n",
    "        # Charger les figures comme images\n",
    "        mask_overlay_path = f\"./results/{filename}_overlay_mask.png\"\n",
    "        image_overlay_path = f\"./results/{filename}_overlay_image.png\"\n",
    "\n",
    "        mask_overlay_img = Image.open(mask_overlay_path).convert(\"RGB\")\n",
    "        image_overlay_img = Image.open(image_overlay_path).convert(\"RGB\")\n",
    "\n",
    "        # Combiner original + mask + prédiction\n",
    "        combineImages(image, mask_overlay_img, image_overlay_img, filename)\n",
    "\n",
    "    global_mean = np.mean(mean_ious)\n",
    "    print(f\"Moyenne Globale IoU (mIoU) : {global_mean:.3f}\")\n"
   ]
  },
  {
   "cell_type": "code",
   "execution_count": 8,
   "id": "35637e6d",
   "metadata": {},
   "outputs": [
    {
     "name": "stdout",
     "output_type": "stream",
     "text": [
      "Moyenne IoU (mIoU) : 0.810\n"
     ]
    },
    {
     "ename": "AttributeError",
     "evalue": "'tuple' object has no attribute 'savefig'",
     "output_type": "error",
     "traceback": [
      "\u001b[31m---------------------------------------------------------------------------\u001b[39m",
      "\u001b[31mAttributeError\u001b[39m                            Traceback (most recent call last)",
      "\u001b[36mCell\u001b[39m\u001b[36m \u001b[39m\u001b[32mIn[8]\u001b[39m\u001b[32m, line 1\u001b[39m\n\u001b[32m----> \u001b[39m\u001b[32m1\u001b[39m \u001b[43mloadImages\u001b[49m\u001b[43m(\u001b[49m\u001b[43m)\u001b[49m\n",
      "\u001b[36mCell\u001b[39m\u001b[36m \u001b[39m\u001b[32mIn[7]\u001b[39m\u001b[32m, line 19\u001b[39m, in \u001b[36mloadImages\u001b[39m\u001b[34m()\u001b[39m\n\u001b[32m     16\u001b[39m mask = Image.open(mask_path).convert(\u001b[33m\"\u001b[39m\u001b[33mL\u001b[39m\u001b[33m\"\u001b[39m)\n\u001b[32m     18\u001b[39m \u001b[38;5;66;03m# Générer et sauvegarder les figures overlay\u001b[39;00m\n\u001b[32m---> \u001b[39m\u001b[32m19\u001b[39m mean = \u001b[43mhandleImageAndMask\u001b[49m\u001b[43m(\u001b[49m\u001b[43mimage\u001b[49m\u001b[43m,\u001b[49m\u001b[43m \u001b[49m\u001b[43mmask\u001b[49m\u001b[43m,\u001b[49m\u001b[43m \u001b[49m\u001b[43mfilename\u001b[49m\u001b[43m,\u001b[49m\u001b[43m \u001b[49m\u001b[33;43m\"\u001b[39;49m\u001b[33;43moverlay_mask\u001b[39;49m\u001b[33;43m\"\u001b[39;49m\u001b[43m,\u001b[49m\u001b[43m \u001b[49m\u001b[38;5;28;43;01mTrue\u001b[39;49;00m\u001b[43m)\u001b[49m\n\u001b[32m     20\u001b[39m mean_ious = np.append(mean_ious, mean) \n\u001b[32m     22\u001b[39m handleImageAndMask(image, image, filename, \u001b[33m\"\u001b[39m\u001b[33moverlay_image\u001b[39m\u001b[33m\"\u001b[39m, \u001b[38;5;28;01mFalse\u001b[39;00m)\n",
      "\u001b[36mCell\u001b[39m\u001b[36m \u001b[39m\u001b[32mIn[6]\u001b[39m\u001b[32m, line 24\u001b[39m, in \u001b[36mhandleImageAndMask\u001b[39m\u001b[34m(image, mask, filename, placeholder, compute)\u001b[39m\n\u001b[32m     20\u001b[39m     \u001b[38;5;28mprint\u001b[39m(\u001b[33mf\u001b[39m\u001b[33m\"\u001b[39m\u001b[33mMoyenne IoU (mIoU) : \u001b[39m\u001b[38;5;132;01m{\u001b[39;00mmean\u001b[38;5;132;01m:\u001b[39;00m\u001b[33m.3f\u001b[39m\u001b[38;5;132;01m}\u001b[39;00m\u001b[33m\"\u001b[39m)\n\u001b[32m     22\u001b[39m fig = createDisplay(predicted_mask, mask, filename)\n\u001b[32m---> \u001b[39m\u001b[32m24\u001b[39m \u001b[43msaveFig\u001b[49m\u001b[43m(\u001b[49m\u001b[43mfig\u001b[49m\u001b[43m,\u001b[49m\u001b[43m \u001b[49m\u001b[43mfilename\u001b[49m\u001b[43m,\u001b[49m\u001b[43m \u001b[49m\u001b[43mplaceholder\u001b[49m\u001b[43m)\u001b[49m\n",
      "\u001b[36mCell\u001b[39m\u001b[36m \u001b[39m\u001b[32mIn[5]\u001b[39m\u001b[32m, line 29\u001b[39m, in \u001b[36msaveFig\u001b[39m\u001b[34m(fig, filename, placeholder)\u001b[39m\n\u001b[32m     28\u001b[39m \u001b[38;5;28;01mdef\u001b[39;00m\u001b[38;5;250m \u001b[39m\u001b[34msaveFig\u001b[39m(fig, filename, placeholder):\n\u001b[32m---> \u001b[39m\u001b[32m29\u001b[39m     \u001b[43mfig\u001b[49m\u001b[43m.\u001b[49m\u001b[43msavefig\u001b[49m(\n\u001b[32m     30\u001b[39m         \u001b[33mf\u001b[39m\u001b[33m\"\u001b[39m\u001b[33m./results/\u001b[39m\u001b[38;5;132;01m{\u001b[39;00mfilename\u001b[38;5;132;01m}\u001b[39;00m\u001b[33m_\u001b[39m\u001b[38;5;132;01m{\u001b[39;00mplaceholder\u001b[38;5;132;01m}\u001b[39;00m\u001b[33m.png\u001b[39m\u001b[33m\"\u001b[39m,\n\u001b[32m     31\u001b[39m         bbox_inches=\u001b[33m'\u001b[39m\u001b[33mtight\u001b[39m\u001b[33m'\u001b[39m,\n\u001b[32m     32\u001b[39m         pad_inches=\u001b[32m0\u001b[39m,\n\u001b[32m     33\u001b[39m         facecolor=fig.get_facecolor()\n\u001b[32m     34\u001b[39m     )\n\u001b[32m     35\u001b[39m     plt.close(fig)\n",
      "\u001b[31mAttributeError\u001b[39m: 'tuple' object has no attribute 'savefig'"
     ]
    },
    {
     "data": {
      "image/png": "[encoded data removed]",
      "text/plain": [
       "<Figure size 1000x800 with 1 Axes>"
      ]
     },
     "metadata": {},
     "output_type": "display_data"
    }
   ],
   "source": [
    "loadImages()\n"
   ]
  }
 ],
 "metadata": {
  "kernelspec": {
   "display_name": "fashion-YkPqBFHP-py3.12",
   "language": "python",
   "name": "python3"
  },
  "language_info": {
   "codemirror_mode": {
    "name": "ipython",
    "version": 3
   },
   "file_extension": ".py",
   "mimetype": "text/x-python",
   "name": "python",
   "nbconvert_exporter": "python",
   "pygments_lexer": "ipython3",
   "version": "3.12.3"
  }
 },
 "nbformat": 4,
 "nbformat_minor": 5
}
